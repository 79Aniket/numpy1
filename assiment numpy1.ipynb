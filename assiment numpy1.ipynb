{
 "cells": [
  {
   "cell_type": "markdown",
   "id": "feb3cf4b-8578-4b60-82e0-d8b3bceda87b",
   "metadata": {},
   "source": [
    "#### Q1. Is there any difference in the data type of variables list_ and array_list? If there is then write a code\n",
    "#### to print the data types of both the variables."
   ]
  },
  {
   "cell_type": "code",
   "execution_count": 1,
   "id": "4d728def-ebdf-4c3d-b399-c5c7942653c6",
   "metadata": {},
   "outputs": [],
   "source": [
    "import numpy as np\n",
    "\n",
    "list_ = ['1', '2', '3', '4', '5']\n",
    "array_list = np.array(object=list_)"
   ]
  },
  {
   "cell_type": "code",
   "execution_count": 2,
   "id": "77ab1caf-e1e8-4168-97a0-73685349f6ad",
   "metadata": {},
   "outputs": [
    {
     "data": {
      "text/plain": [
       "list"
      ]
     },
     "execution_count": 2,
     "metadata": {},
     "output_type": "execute_result"
    }
   ],
   "source": [
    "type(list_)"
   ]
  },
  {
   "cell_type": "code",
   "execution_count": 3,
   "id": "4f281d4e-0e53-412d-98b2-5fe0f1b4aa4f",
   "metadata": {},
   "outputs": [
    {
     "data": {
      "text/plain": [
       "numpy.ndarray"
      ]
     },
     "execution_count": 3,
     "metadata": {},
     "output_type": "execute_result"
    }
   ],
   "source": [
    "type(array_list)"
   ]
  },
  {
   "cell_type": "code",
   "execution_count": null,
   "id": "a547cf91-a335-4faf-b225-45e8c7f1e884",
   "metadata": {},
   "outputs": [],
   "source": []
  },
  {
   "cell_type": "markdown",
   "id": "5621bd00-f935-4317-8c9e-0fcf819a362b",
   "metadata": {},
   "source": [
    "#### Q2. Write a code to print the data type of each and every element of both the variables list_ and\n",
    "### arra_list."
   ]
  },
  {
   "cell_type": "code",
   "execution_count": 30,
   "id": "7da5159a-092c-40ae-8041-2b309b9ee5ac",
   "metadata": {},
   "outputs": [
    {
     "name": "stdout",
     "output_type": "stream",
     "text": [
      "The data type of list_[0] is <class 'str'>\n",
      "The data type of array_list[0] is <class 'str'>\n",
      "The data type of list_[1] is <class 'str'>\n",
      "The data type of array_list[1] is <class 'str'>\n",
      "The data type of list_[2] is <class 'str'>\n",
      "The data type of array_list[2] is <class 'str'>\n",
      "The data type of list_[3] is <class 'str'>\n",
      "The data type of array_list[3] is <class 'str'>\n",
      "The data type of list_[4] is <class 'str'>\n",
      "The data type of array_list[4] is <class 'str'>\n"
     ]
    }
   ],
   "source": [
    "list_ = ['1', '2', '3', '4', '5']\n",
    "array_list = np.array(list_, object)\n",
    "\n",
    "for i in range(len(list_)):\n",
    "    print(\"The data type of list_[{}] is {}\".format(i, type(list_[i])))\n",
    "    print(\"The data type of array_list[{}] is {}\".format(i, type(array_list[i])))\n"
   ]
  },
  {
   "cell_type": "code",
   "execution_count": null,
   "id": "5aa8d7c9-3c94-4890-bf17-b55abdbc653a",
   "metadata": {},
   "outputs": [],
   "source": []
  },
  {
   "cell_type": "markdown",
   "id": "577a27a9-e22a-4e59-8169-0464d2e009ff",
   "metadata": {},
   "source": [
    "### Q4. Write a code to find the following characteristics of variable, num_array:\n",
    "### (i) shape\n",
    "### (ii) size"
   ]
  },
  {
   "cell_type": "code",
   "execution_count": 27,
   "id": "3c3e05f5-999f-4969-a8c7-d1f68e350bad",
   "metadata": {},
   "outputs": [],
   "source": [
    "num_list = [[1, 2, 3], [4, 5, 6]]\n",
    "num_array = np.array(object=num_list)"
   ]
  },
  {
   "cell_type": "code",
   "execution_count": 28,
   "id": "510dd3fe-0123-4dc2-b52a-f28ec0e12bcc",
   "metadata": {},
   "outputs": [
    {
     "data": {
      "text/plain": [
       "(2, 3)"
      ]
     },
     "execution_count": 28,
     "metadata": {},
     "output_type": "execute_result"
    }
   ],
   "source": [
    "np.shape(num_array)"
   ]
  },
  {
   "cell_type": "code",
   "execution_count": 29,
   "id": "3e174233-5826-4eb2-8f52-c1cc84f1c9f8",
   "metadata": {},
   "outputs": [
    {
     "data": {
      "text/plain": [
       "6"
      ]
     },
     "execution_count": 29,
     "metadata": {},
     "output_type": "execute_result"
    }
   ],
   "source": [
    "np.size(num_array)"
   ]
  },
  {
   "cell_type": "code",
   "execution_count": null,
   "id": "6bc965a1-6061-4398-9256-0422aa707d4a",
   "metadata": {},
   "outputs": [],
   "source": []
  },
  {
   "cell_type": "markdown",
   "id": "b7aeb6b7-8763-4042-92ab-2840e061b8f9",
   "metadata": {},
   "source": [
    "## Q5. Write a code to create numpy array of 3*3 matrix containing zeros only, using a numpy array\n",
    "#### creation function.\n",
    "#### [Hint: The size of the array will be 9 and the shape will be (3,3).]"
   ]
  },
  {
   "cell_type": "code",
   "execution_count": 22,
   "id": "39c90d54-31f2-439d-b241-863587a60efb",
   "metadata": {},
   "outputs": [],
   "source": [
    "array = np.zeros((3,3))"
   ]
  },
  {
   "cell_type": "code",
   "execution_count": 23,
   "id": "62eb3824-9ad5-45a0-81b5-f326a37d9a05",
   "metadata": {},
   "outputs": [
    {
     "data": {
      "text/plain": [
       "array([[0., 0., 0.],\n",
       "       [0., 0., 0.],\n",
       "       [0., 0., 0.]])"
      ]
     },
     "execution_count": 23,
     "metadata": {},
     "output_type": "execute_result"
    }
   ],
   "source": [
    "array"
   ]
  },
  {
   "cell_type": "code",
   "execution_count": null,
   "id": "35f1defb-2bcb-4e99-8dea-09d00e2a61b0",
   "metadata": {},
   "outputs": [],
   "source": []
  },
  {
   "cell_type": "code",
   "execution_count": 24,
   "id": "b82aec9f-98dd-4242-84b4-8dabc8317046",
   "metadata": {},
   "outputs": [],
   "source": [
    "array1 = np.identity(5)"
   ]
  },
  {
   "cell_type": "code",
   "execution_count": 25,
   "id": "8f51e670-621b-4c70-bfad-ce93daca6fb8",
   "metadata": {},
   "outputs": [
    {
     "data": {
      "text/plain": [
       "array([[1., 0., 0., 0., 0.],\n",
       "       [0., 1., 0., 0., 0.],\n",
       "       [0., 0., 1., 0., 0.],\n",
       "       [0., 0., 0., 1., 0.],\n",
       "       [0., 0., 0., 0., 1.]])"
      ]
     },
     "execution_count": 25,
     "metadata": {},
     "output_type": "execute_result"
    }
   ],
   "source": [
    "array1"
   ]
  },
  {
   "cell_type": "code",
   "execution_count": null,
   "id": "a180c38c-24d1-45dc-bbcd-2eb7d6964014",
   "metadata": {},
   "outputs": [],
   "source": []
  },
  {
   "cell_type": "markdown",
   "id": "6560f87a-d6e2-4840-8a1a-7c65fc568b95",
   "metadata": {},
   "source": [
    "#### Q3. Considering the following changes in the variable, array_list:\n",
    "##### array_list = np.array(object = list_, dtype = int)\n",
    "##### Will there be any difference in the data type of the elements present in both the variables, list_ and\n",
    "####  arra_list? If so then print the data types of each and every element present in both the variables, list_\n",
    "### and arra_list."
   ]
  },
  {
   "cell_type": "code",
   "execution_count": 26,
   "id": "a34c03bf-b097-4918-baab-cdb3833c12dd",
   "metadata": {},
   "outputs": [
    {
     "name": "stdout",
     "output_type": "stream",
     "text": [
      "The data type of list_[0] is <class 'str'>\n",
      "The data type of array_list[0] is <class 'numpy.int64'>\n",
      "The data type of list_[1] is <class 'str'>\n",
      "The data type of array_list[1] is <class 'numpy.int64'>\n",
      "The data type of list_[2] is <class 'str'>\n",
      "The data type of array_list[2] is <class 'numpy.int64'>\n",
      "The data type of list_[3] is <class 'str'>\n",
      "The data type of array_list[3] is <class 'numpy.int64'>\n",
      "The data type of list_[4] is <class 'str'>\n",
      "The data type of array_list[4] is <class 'numpy.int64'>\n"
     ]
    }
   ],
   "source": [
    "list_ = [\"1\", \"2\", \"3\", \"4\", \"5\"]\n",
    "array_list = np.array(object=list_, dtype=int)\n",
    "\n",
    "for i in range(len(list_)):\n",
    "    print(\"The data type of list_[{}] is {}\".format(i, type(list_[i])))\n",
    "    print(\"The data type of array_list[{}] is {}\".format(i, type(array_list[i])))\n"
   ]
  },
  {
   "cell_type": "code",
   "execution_count": null,
   "id": "924c4084-e055-475b-8fdb-56cb98621b17",
   "metadata": {},
   "outputs": [],
   "source": []
  }
 ],
 "metadata": {
  "kernelspec": {
   "display_name": "Python 3 (ipykernel)",
   "language": "python",
   "name": "python3"
  },
  "language_info": {
   "codemirror_mode": {
    "name": "ipython",
    "version": 3
   },
   "file_extension": ".py",
   "mimetype": "text/x-python",
   "name": "python",
   "nbconvert_exporter": "python",
   "pygments_lexer": "ipython3",
   "version": "3.10.8"
  }
 },
 "nbformat": 4,
 "nbformat_minor": 5
}
